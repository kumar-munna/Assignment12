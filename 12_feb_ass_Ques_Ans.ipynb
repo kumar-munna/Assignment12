{
 "cells": [
  {
   "cell_type": "code",
   "execution_count": 2,
   "id": "f755f1a1-27d4-4a25-8feb-ceb6601bb990",
   "metadata": {},
   "outputs": [],
   "source": [
    "# Question 1:- What is an Exception in python? Write the difference between exception and syntax errors."
   ]
  },
  {
   "cell_type": "code",
   "execution_count": 3,
   "id": "f14b4663-0c2f-4de0-be71-f41e066ec5da",
   "metadata": {},
   "outputs": [],
   "source": [
    "# Answer 1:- Exceptions are raised when the program is syntactically correct, but the code results in an\n",
    "# error. This error does not stop the execution of the program, however, it changes the normal flow \n",
    "# of the program. Exception are raised when some internal events occur which changes flow of the program."
   ]
  },
  {
   "cell_type": "code",
   "execution_count": 4,
   "id": "a87dcba2-eec6-4fcc-aabb-f2658fd0ab28",
   "metadata": {},
   "outputs": [],
   "source": [
    "# Differnce between Exception and syntax error\n",
    "\n",
    "# Exception:- An exception is an event, which occurs during the execution of a program that disrupts\n",
    "# the normal flow of  the program's instructions. In general, when a python script encountes a situation\n",
    "# that it cannot cope with, it raises an exception . An exception is a python object that represents\n",
    "# an error.\n",
    "\n",
    "# syntax error:- When the interpreter comes across an invalid syntax while writing python code, a\n",
    "# syntax error is said to occur. Usually, the interpreter parses the python code to convert it into \n",
    "# bytecode and on encountering any invalid syntax in the parsing stage, it throws an error called the\n",
    "# syntaxerror."
   ]
  },
  {
   "cell_type": "code",
   "execution_count": 5,
   "id": "47a5b50e-c77b-4d69-adff-f887a22b6ba4",
   "metadata": {},
   "outputs": [],
   "source": [
    "# example of syntax error"
   ]
  },
  {
   "cell_type": "code",
   "execution_count": 6,
   "id": "ce06b000-bfa2-4405-b224-30c5f018aeac",
   "metadata": {},
   "outputs": [
    {
     "ename": "FileNotFoundError",
     "evalue": "[Errno 2] No such file or directory: 'hello.txt'",
     "output_type": "error",
     "traceback": [
      "\u001b[0;31m---------------------------------------------------------------------------\u001b[0m",
      "\u001b[0;31mFileNotFoundError\u001b[0m                         Traceback (most recent call last)",
      "Cell \u001b[0;32mIn[6], line 1\u001b[0m\n\u001b[0;32m----> 1\u001b[0m f\u001b[38;5;241m=\u001b[39m\u001b[38;5;28;43mopen\u001b[39;49m\u001b[43m(\u001b[49m\u001b[38;5;124;43m\"\u001b[39;49m\u001b[38;5;124;43mhello.txt\u001b[39;49m\u001b[38;5;124;43m\"\u001b[39;49m\u001b[43m,\u001b[49m\u001b[38;5;124;43m'\u001b[39;49m\u001b[38;5;124;43mr\u001b[39;49m\u001b[38;5;124;43m'\u001b[39;49m\u001b[43m)\u001b[49m\n\u001b[1;32m      2\u001b[0m f\u001b[38;5;241m.\u001b[39mread()\n",
      "File \u001b[0;32m/opt/conda/lib/python3.10/site-packages/IPython/core/interactiveshell.py:282\u001b[0m, in \u001b[0;36m_modified_open\u001b[0;34m(file, *args, **kwargs)\u001b[0m\n\u001b[1;32m    275\u001b[0m \u001b[38;5;28;01mif\u001b[39;00m file \u001b[38;5;129;01min\u001b[39;00m {\u001b[38;5;241m0\u001b[39m, \u001b[38;5;241m1\u001b[39m, \u001b[38;5;241m2\u001b[39m}:\n\u001b[1;32m    276\u001b[0m     \u001b[38;5;28;01mraise\u001b[39;00m \u001b[38;5;167;01mValueError\u001b[39;00m(\n\u001b[1;32m    277\u001b[0m         \u001b[38;5;124mf\u001b[39m\u001b[38;5;124m\"\u001b[39m\u001b[38;5;124mIPython won\u001b[39m\u001b[38;5;124m'\u001b[39m\u001b[38;5;124mt let you open fd=\u001b[39m\u001b[38;5;132;01m{\u001b[39;00mfile\u001b[38;5;132;01m}\u001b[39;00m\u001b[38;5;124m by default \u001b[39m\u001b[38;5;124m\"\u001b[39m\n\u001b[1;32m    278\u001b[0m         \u001b[38;5;124m\"\u001b[39m\u001b[38;5;124mas it is likely to crash IPython. If you know what you are doing, \u001b[39m\u001b[38;5;124m\"\u001b[39m\n\u001b[1;32m    279\u001b[0m         \u001b[38;5;124m\"\u001b[39m\u001b[38;5;124myou can use builtins\u001b[39m\u001b[38;5;124m'\u001b[39m\u001b[38;5;124m open.\u001b[39m\u001b[38;5;124m\"\u001b[39m\n\u001b[1;32m    280\u001b[0m     )\n\u001b[0;32m--> 282\u001b[0m \u001b[38;5;28;01mreturn\u001b[39;00m \u001b[43mio_open\u001b[49m\u001b[43m(\u001b[49m\u001b[43mfile\u001b[49m\u001b[43m,\u001b[49m\u001b[43m \u001b[49m\u001b[38;5;241;43m*\u001b[39;49m\u001b[43margs\u001b[49m\u001b[43m,\u001b[49m\u001b[43m \u001b[49m\u001b[38;5;241;43m*\u001b[39;49m\u001b[38;5;241;43m*\u001b[39;49m\u001b[43mkwargs\u001b[49m\u001b[43m)\u001b[49m\n",
      "\u001b[0;31mFileNotFoundError\u001b[0m: [Errno 2] No such file or directory: 'hello.txt'"
     ]
    }
   ],
   "source": [
    "f=open(\"hello.txt\",'r')\n",
    "f.read()"
   ]
  },
  {
   "cell_type": "code",
   "execution_count": 7,
   "id": "04d6652c-be40-45ff-a036-52bd272501ce",
   "metadata": {},
   "outputs": [],
   "source": [
    "# example of exception "
   ]
  },
  {
   "cell_type": "code",
   "execution_count": 8,
   "id": "c59631db-e3b1-49fe-81ad-85516bcc3a61",
   "metadata": {},
   "outputs": [
    {
     "name": "stdout",
     "output_type": "stream",
     "text": [
      "this is exception  [Errno 2] No such file or directory: 'hello.txt'\n"
     ]
    }
   ],
   "source": [
    "try:\n",
    "    f=open(\"hello.txt\",'r')\n",
    "    f.read()\n",
    "except Exception as e:\n",
    "    print(\"this is exception \",e)\n"
   ]
  },
  {
   "cell_type": "code",
   "execution_count": 9,
   "id": "e0b43e06-4d09-48f6-b139-942b6d76ba5d",
   "metadata": {},
   "outputs": [],
   "source": [
    "# Question 2:- what happens when an exception is not handled? Explain with an example."
   ]
  },
  {
   "cell_type": "code",
   "execution_count": 10,
   "id": "eb62a11e-8594-4796-8020-522cb764777b",
   "metadata": {},
   "outputs": [],
   "source": [
    "# Answer 2:-"
   ]
  },
  {
   "cell_type": "code",
   "execution_count": 11,
   "id": "8bf032b0-2b13-49c0-8d25-fea6edc1c7f1",
   "metadata": {},
   "outputs": [],
   "source": [
    "# When an exception is not handled ,it results in the termination of the program with an error\n",
    "# message indicating the type of exception and the traceback of where the exception occurred.\n",
    "# This abrupt termination can leave the program in an incosistent state and prevent it from \n",
    "# completing its intended execution."
   ]
  },
  {
   "cell_type": "code",
   "execution_count": 12,
   "id": "714a6bb5-01e0-4f40-997c-6ffb4c63ff03",
   "metadata": {},
   "outputs": [],
   "source": [
    "# for example:-"
   ]
  },
  {
   "cell_type": "code",
   "execution_count": 17,
   "id": "1b00a689-384d-4433-ba13-f25fe1afa60a",
   "metadata": {},
   "outputs": [],
   "source": [
    "def divide(a,b):\n",
    "    return a/b"
   ]
  },
  {
   "cell_type": "code",
   "execution_count": 21,
   "id": "5e48b976-faac-488d-ac64-9f876d3f698e",
   "metadata": {},
   "outputs": [
    {
     "ename": "ZeroDivisionError",
     "evalue": "division by zero",
     "output_type": "error",
     "traceback": [
      "\u001b[0;31m---------------------------------------------------------------------------\u001b[0m",
      "\u001b[0;31mZeroDivisionError\u001b[0m                         Traceback (most recent call last)",
      "Cell \u001b[0;32mIn[21], line 1\u001b[0m\n\u001b[0;32m----> 1\u001b[0m \u001b[43mdivide\u001b[49m\u001b[43m(\u001b[49m\u001b[38;5;241;43m5\u001b[39;49m\u001b[43m,\u001b[49m\u001b[38;5;241;43m0\u001b[39;49m\u001b[43m)\u001b[49m\n",
      "Cell \u001b[0;32mIn[17], line 4\u001b[0m, in \u001b[0;36mdivide\u001b[0;34m(a, b)\u001b[0m\n\u001b[1;32m      3\u001b[0m \u001b[38;5;28;01mdef\u001b[39;00m \u001b[38;5;21mdivide\u001b[39m(a,b):\n\u001b[0;32m----> 4\u001b[0m     \u001b[38;5;28;01mreturn\u001b[39;00m \u001b[43ma\u001b[49m\u001b[38;5;241;43m/\u001b[39;49m\u001b[43mb\u001b[49m\n",
      "\u001b[0;31mZeroDivisionError\u001b[0m: division by zero"
     ]
    }
   ],
   "source": [
    "divide(5,0)"
   ]
  },
  {
   "cell_type": "code",
   "execution_count": 22,
   "id": "7b344edf-84b3-4085-a810-a5c72aa31b42",
   "metadata": {},
   "outputs": [],
   "source": [
    "# Question 3:- Which python statements are used to catch and handle exception? Explain with an example."
   ]
  },
  {
   "cell_type": "code",
   "execution_count": 23,
   "id": "f17928a6-75af-4f0b-af5f-0246049111a3",
   "metadata": {},
   "outputs": [],
   "source": [
    "# Answer 3:-"
   ]
  },
  {
   "cell_type": "code",
   "execution_count": 24,
   "id": "0a2fe3b3-74a6-47c8-ad92-2a55e1009394",
   "metadata": {},
   "outputs": [],
   "source": [
    "# The try and except block in python is used to catch and handle exceptions. Python executes code \n",
    "# following the try statement as a normal part of the program. The code that followa the except \n",
    "# statement is the program's response to any exceptions in the preceding try clause."
   ]
  },
  {
   "cell_type": "code",
   "execution_count": 25,
   "id": "80e1fc61-69ce-49b9-ad0b-2ece669da064",
   "metadata": {},
   "outputs": [
    {
     "name": "stdout",
     "output_type": "stream",
     "text": [
      "8 is not divisble by 0 it result infinity division by zero\n"
     ]
    }
   ],
   "source": [
    "try:\n",
    "    divide(8,0)\n",
    "except Exception as e:\n",
    "    print(\"8 is not divisble by 0 it result infinity\",e)"
   ]
  },
  {
   "cell_type": "code",
   "execution_count": 26,
   "id": "94d7790a-14aa-4685-9dcd-04ad9f5ca3c7",
   "metadata": {},
   "outputs": [],
   "source": [
    "# Question 4:-\n",
    "# a. try and else\n",
    "# b. finally\n",
    "# c. raise"
   ]
  },
  {
   "cell_type": "code",
   "execution_count": 27,
   "id": "2050beab-0e40-4363-a312-cf44225f0f63",
   "metadata": {},
   "outputs": [],
   "source": [
    "# Answer 4:-"
   ]
  },
  {
   "cell_type": "raw",
   "id": "2ba1200f-7ff1-4741-b949-35031e554cb7",
   "metadata": {},
   "source": [
    "try and else"
   ]
  },
  {
   "cell_type": "code",
   "execution_count": 37,
   "id": "200cd3aa-255e-4ae6-9ff6-29b61784494a",
   "metadata": {},
   "outputs": [
    {
     "name": "stdout",
     "output_type": "stream",
     "text": [
      "print option execute successfully [Errno 2] No such file or directory: 'hello.txt'\n"
     ]
    }
   ],
   "source": [
    "try:\n",
    "    f=open(\"hello.txt\",'r')\n",
    "    f.read()\n",
    "except Exception as e:\n",
    "    print(\"print option execute successfully\",e)\n",
    "else:\n",
    "    print(\"try is executed successfully without any error\")\n",
    "    "
   ]
  },
  {
   "cell_type": "code",
   "execution_count": 38,
   "id": "808b0603-5fd2-4bc1-bdb6-adce87a3fe7a",
   "metadata": {},
   "outputs": [
    {
     "name": "stdout",
     "output_type": "stream",
     "text": [
      "try is executed successfully without any error\n"
     ]
    }
   ],
   "source": [
    "try:\n",
    "    f=open(\"hello1.txt\",'w')\n",
    "    f.write(\"this is my file\")\n",
    "    f.close()\n",
    "except Exception as e:\n",
    "    print(\"print option execute successfully\",e)\n",
    "else:\n",
    "    print(\"try is executed successfully without any error\")\n",
    "    "
   ]
  },
  {
   "cell_type": "markdown",
   "id": "81a74f36-2999-4650-b0c9-5d1bb1a5355e",
   "metadata": {},
   "source": [
    "finally"
   ]
  },
  {
   "cell_type": "code",
   "execution_count": 36,
   "id": "fdd06741-2d32-4f6c-89ab-ec40b54a8904",
   "metadata": {},
   "outputs": [
    {
     "name": "stdout",
     "output_type": "stream",
     "text": [
      "it occur error [Errno 2] No such file or directory: 'hello.txt'\n",
      "finally will executed itself in any situation \n"
     ]
    }
   ],
   "source": [
    "try:\n",
    "    f=open(\"hello.txt\",'r')\n",
    "    f.read()\n",
    "except Exception as e:\n",
    "    print(\"it occur error\",e)\n",
    "finally:\n",
    "    print(\"finally will executed itself in any situation \")"
   ]
  },
  {
   "cell_type": "markdown",
   "id": "e6428d9a-34a8-49ca-b481-7d1182627d1d",
   "metadata": {},
   "source": [
    "raise"
   ]
  },
  {
   "cell_type": "code",
   "execution_count": 41,
   "id": "d9f88a87-d85c-433c-b99d-0e079dd3fdba",
   "metadata": {},
   "outputs": [
    {
     "ename": "Exception",
     "evalue": "x is less than zero",
     "output_type": "error",
     "traceback": [
      "\u001b[0;31m---------------------------------------------------------------------------\u001b[0m",
      "\u001b[0;31mException\u001b[0m                                 Traceback (most recent call last)",
      "Cell \u001b[0;32mIn[41], line 3\u001b[0m\n\u001b[1;32m      1\u001b[0m x\u001b[38;5;241m=\u001b[39m\u001b[38;5;241m-\u001b[39m\u001b[38;5;241m5\u001b[39m\n\u001b[1;32m      2\u001b[0m \u001b[38;5;28;01mif\u001b[39;00m x\u001b[38;5;241m<\u001b[39m\u001b[38;5;241m0\u001b[39m:\n\u001b[0;32m----> 3\u001b[0m     \u001b[38;5;28;01mraise\u001b[39;00m \u001b[38;5;167;01mException\u001b[39;00m(\u001b[38;5;124m\"\u001b[39m\u001b[38;5;124mx is less than zero\u001b[39m\u001b[38;5;124m\"\u001b[39m)\n",
      "\u001b[0;31mException\u001b[0m: x is less than zero"
     ]
    }
   ],
   "source": [
    "x=-5\n",
    "if x<0:\n",
    "    raise Exception(\"x is less than zero\")"
   ]
  },
  {
   "cell_type": "code",
   "execution_count": 42,
   "id": "ae92dd3e-3f3f-44fd-b453-3f5fd366485e",
   "metadata": {},
   "outputs": [],
   "source": [
    "x=10\n",
    "if x<0:\n",
    "    raise Exception(\"x is less than zero\")"
   ]
  },
  {
   "cell_type": "code",
   "execution_count": 43,
   "id": "cccc0b94-e035-4aab-af4f-2990c52964f9",
   "metadata": {},
   "outputs": [],
   "source": [
    "# Question 5:- What are Custom Exception in python? Why do we need Custom Exception? Explain with an example."
   ]
  },
  {
   "cell_type": "code",
   "execution_count": null,
   "id": "10a28675-008a-4375-a9c3-32118db111a8",
   "metadata": {},
   "outputs": [],
   "source": [
    "Answer 5:-"
   ]
  },
  {
   "cell_type": "code",
   "execution_count": 44,
   "id": "ffb76a5c-e5ba-4709-a62c-0097ca283957",
   "metadata": {},
   "outputs": [],
   "source": [
    "# sometime user need to create his own exceptions and raise explicity for corresponding scenarios.\n",
    "# Such types of exception are called customized exception or programmatic exception. We can raise\n",
    "# a custom exception by using the keyword raise. Having custom exceptions tailored to your specific\n",
    "# use cases and that you can raise and catch in specific circumstances can make your code much more\n",
    "# readable and robust, and reduce the amount of code you write later to try and figure out what exactly\n",
    "# went wrong."
   ]
  },
  {
   "cell_type": "code",
   "execution_count": 45,
   "id": "0465b212-2012-4a52-aeb8-3493ad66cd5b",
   "metadata": {},
   "outputs": [],
   "source": [
    "# for example :-"
   ]
  },
  {
   "cell_type": "code",
   "execution_count": 46,
   "id": "47997eff-27a0-4ee1-bc26-574b246fea28",
   "metadata": {},
   "outputs": [],
   "source": [
    "class customexception(Exception):\n",
    "    pass"
   ]
  },
  {
   "cell_type": "code",
   "execution_count": 47,
   "id": "32126f8a-0634-445a-96b3-9ccfedb73b20",
   "metadata": {},
   "outputs": [
    {
     "name": "stdout",
     "output_type": "stream",
     "text": [
      "this is my custom exception\n"
     ]
    }
   ],
   "source": [
    "try:\n",
    "    raise customexception(\"this is my custom exception\")\n",
    "except Exception as a:\n",
    "    print(a)"
   ]
  },
  {
   "cell_type": "code",
   "execution_count": 48,
   "id": "9384b022-c08c-4a57-9e46-af6756628975",
   "metadata": {},
   "outputs": [],
   "source": [
    "# Question 6:- Create a custom exception class. Use this class to handle an exception."
   ]
  },
  {
   "cell_type": "code",
   "execution_count": null,
   "id": "0f12f9df-8e62-48e3-9b24-097f9380bd74",
   "metadata": {},
   "outputs": [],
   "source": [
    "Answer 6:-"
   ]
  },
  {
   "cell_type": "code",
   "execution_count": 49,
   "id": "89c0c837-0149-4841-b385-bf32a12b6c32",
   "metadata": {},
   "outputs": [],
   "source": [
    "class mycustomexception(Exception):\n",
    "    def __init__(self,msg):\n",
    "        self.msg=msg"
   ]
  },
  {
   "cell_type": "code",
   "execution_count": 57,
   "id": "8d07285e-22fd-47a8-8f99-ed2fa3e404b9",
   "metadata": {},
   "outputs": [],
   "source": [
    "def person(height):\n",
    "    if height<0:\n",
    "        raise mycustomexception(\"height of person can't be negative \")\n",
    "    else:\n",
    "        raise mycustomexception(\"it is average height\")"
   ]
  },
  {
   "cell_type": "code",
   "execution_count": 58,
   "id": "5cc6ad3c-0115-412f-afac-c24208cf0122",
   "metadata": {},
   "outputs": [
    {
     "name": "stdin",
     "output_type": "stream",
     "text": [
      "enter your height in cm -837\n"
     ]
    },
    {
     "name": "stdout",
     "output_type": "stream",
     "text": [
      "height of person can't be negative \n"
     ]
    }
   ],
   "source": [
    "try:\n",
    "    height=int(input(\"enter your height in cm\"))\n",
    "    person(height)\n",
    "except Exception as e:\n",
    "    print(e)\n",
    "    "
   ]
  },
  {
   "cell_type": "code",
   "execution_count": null,
   "id": "be0090f1-d914-4274-9c90-61f3d1241a67",
   "metadata": {},
   "outputs": [],
   "source": []
  }
 ],
 "metadata": {
  "kernelspec": {
   "display_name": "Python 3 (ipykernel)",
   "language": "python",
   "name": "python3"
  },
  "language_info": {
   "codemirror_mode": {
    "name": "ipython",
    "version": 3
   },
   "file_extension": ".py",
   "mimetype": "text/x-python",
   "name": "python",
   "nbconvert_exporter": "python",
   "pygments_lexer": "ipython3",
   "version": "3.10.8"
  }
 },
 "nbformat": 4,
 "nbformat_minor": 5
}
